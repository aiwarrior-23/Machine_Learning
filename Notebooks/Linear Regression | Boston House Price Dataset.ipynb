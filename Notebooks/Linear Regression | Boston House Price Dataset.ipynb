{
 "cells": [
  {
   "cell_type": "code",
   "execution_count": 41,
   "metadata": {},
   "outputs": [],
   "source": [
    "import pandas as pd\n",
    "import numpy as np\n",
    "import sklearn as sk"
   ]
  },
  {
   "cell_type": "raw",
   "metadata": {},
   "source": [
    "boston_data ## Python Convention\n",
    "bostonData ## Camel Convention\n",
    "bostonatad"
   ]
  },
  {
   "cell_type": "code",
   "execution_count": 42,
   "metadata": {},
   "outputs": [
    {
     "data": {
      "text/html": [
       "<div>\n",
       "<style scoped>\n",
       "    .dataframe tbody tr th:only-of-type {\n",
       "        vertical-align: middle;\n",
       "    }\n",
       "\n",
       "    .dataframe tbody tr th {\n",
       "        vertical-align: top;\n",
       "    }\n",
       "\n",
       "    .dataframe thead th {\n",
       "        text-align: right;\n",
       "    }\n",
       "</style>\n",
       "<table border=\"1\" class=\"dataframe\">\n",
       "  <thead>\n",
       "    <tr style=\"text-align: right;\">\n",
       "      <th></th>\n",
       "      <th>Id</th>\n",
       "      <th>MSSubClass</th>\n",
       "      <th>MSZoning</th>\n",
       "      <th>LotFrontage</th>\n",
       "      <th>LotArea</th>\n",
       "      <th>Street</th>\n",
       "      <th>Alley</th>\n",
       "      <th>LotShape</th>\n",
       "      <th>LandContour</th>\n",
       "      <th>Utilities</th>\n",
       "      <th>...</th>\n",
       "      <th>PoolArea</th>\n",
       "      <th>PoolQC</th>\n",
       "      <th>Fence</th>\n",
       "      <th>MiscFeature</th>\n",
       "      <th>MiscVal</th>\n",
       "      <th>MoSold</th>\n",
       "      <th>YrSold</th>\n",
       "      <th>SaleType</th>\n",
       "      <th>SaleCondition</th>\n",
       "      <th>SalePrice</th>\n",
       "    </tr>\n",
       "  </thead>\n",
       "  <tbody>\n",
       "    <tr>\n",
       "      <th>0</th>\n",
       "      <td>1</td>\n",
       "      <td>60</td>\n",
       "      <td>RL</td>\n",
       "      <td>65.0</td>\n",
       "      <td>8450</td>\n",
       "      <td>Pave</td>\n",
       "      <td>NaN</td>\n",
       "      <td>Reg</td>\n",
       "      <td>Lvl</td>\n",
       "      <td>AllPub</td>\n",
       "      <td>...</td>\n",
       "      <td>0</td>\n",
       "      <td>NaN</td>\n",
       "      <td>NaN</td>\n",
       "      <td>NaN</td>\n",
       "      <td>0</td>\n",
       "      <td>2</td>\n",
       "      <td>2008</td>\n",
       "      <td>WD</td>\n",
       "      <td>Normal</td>\n",
       "      <td>208500</td>\n",
       "    </tr>\n",
       "    <tr>\n",
       "      <th>1</th>\n",
       "      <td>2</td>\n",
       "      <td>20</td>\n",
       "      <td>RL</td>\n",
       "      <td>80.0</td>\n",
       "      <td>9600</td>\n",
       "      <td>Pave</td>\n",
       "      <td>NaN</td>\n",
       "      <td>Reg</td>\n",
       "      <td>Lvl</td>\n",
       "      <td>AllPub</td>\n",
       "      <td>...</td>\n",
       "      <td>0</td>\n",
       "      <td>NaN</td>\n",
       "      <td>NaN</td>\n",
       "      <td>NaN</td>\n",
       "      <td>0</td>\n",
       "      <td>5</td>\n",
       "      <td>2007</td>\n",
       "      <td>WD</td>\n",
       "      <td>Normal</td>\n",
       "      <td>181500</td>\n",
       "    </tr>\n",
       "    <tr>\n",
       "      <th>2</th>\n",
       "      <td>3</td>\n",
       "      <td>60</td>\n",
       "      <td>RL</td>\n",
       "      <td>68.0</td>\n",
       "      <td>11250</td>\n",
       "      <td>Pave</td>\n",
       "      <td>NaN</td>\n",
       "      <td>IR1</td>\n",
       "      <td>Lvl</td>\n",
       "      <td>AllPub</td>\n",
       "      <td>...</td>\n",
       "      <td>0</td>\n",
       "      <td>NaN</td>\n",
       "      <td>NaN</td>\n",
       "      <td>NaN</td>\n",
       "      <td>0</td>\n",
       "      <td>9</td>\n",
       "      <td>2008</td>\n",
       "      <td>WD</td>\n",
       "      <td>Normal</td>\n",
       "      <td>223500</td>\n",
       "    </tr>\n",
       "    <tr>\n",
       "      <th>3</th>\n",
       "      <td>4</td>\n",
       "      <td>70</td>\n",
       "      <td>RL</td>\n",
       "      <td>60.0</td>\n",
       "      <td>9550</td>\n",
       "      <td>Pave</td>\n",
       "      <td>NaN</td>\n",
       "      <td>IR1</td>\n",
       "      <td>Lvl</td>\n",
       "      <td>AllPub</td>\n",
       "      <td>...</td>\n",
       "      <td>0</td>\n",
       "      <td>NaN</td>\n",
       "      <td>NaN</td>\n",
       "      <td>NaN</td>\n",
       "      <td>0</td>\n",
       "      <td>2</td>\n",
       "      <td>2006</td>\n",
       "      <td>WD</td>\n",
       "      <td>Abnorml</td>\n",
       "      <td>140000</td>\n",
       "    </tr>\n",
       "    <tr>\n",
       "      <th>4</th>\n",
       "      <td>5</td>\n",
       "      <td>60</td>\n",
       "      <td>RL</td>\n",
       "      <td>84.0</td>\n",
       "      <td>14260</td>\n",
       "      <td>Pave</td>\n",
       "      <td>NaN</td>\n",
       "      <td>IR1</td>\n",
       "      <td>Lvl</td>\n",
       "      <td>AllPub</td>\n",
       "      <td>...</td>\n",
       "      <td>0</td>\n",
       "      <td>NaN</td>\n",
       "      <td>NaN</td>\n",
       "      <td>NaN</td>\n",
       "      <td>0</td>\n",
       "      <td>12</td>\n",
       "      <td>2008</td>\n",
       "      <td>WD</td>\n",
       "      <td>Normal</td>\n",
       "      <td>250000</td>\n",
       "    </tr>\n",
       "  </tbody>\n",
       "</table>\n",
       "<p>5 rows × 81 columns</p>\n",
       "</div>"
      ],
      "text/plain": [
       "   Id  MSSubClass MSZoning  LotFrontage  LotArea Street Alley LotShape  \\\n",
       "0   1          60       RL         65.0     8450   Pave   NaN      Reg   \n",
       "1   2          20       RL         80.0     9600   Pave   NaN      Reg   \n",
       "2   3          60       RL         68.0    11250   Pave   NaN      IR1   \n",
       "3   4          70       RL         60.0     9550   Pave   NaN      IR1   \n",
       "4   5          60       RL         84.0    14260   Pave   NaN      IR1   \n",
       "\n",
       "  LandContour Utilities  ... PoolArea PoolQC Fence MiscFeature MiscVal MoSold  \\\n",
       "0         Lvl    AllPub  ...        0    NaN   NaN         NaN       0      2   \n",
       "1         Lvl    AllPub  ...        0    NaN   NaN         NaN       0      5   \n",
       "2         Lvl    AllPub  ...        0    NaN   NaN         NaN       0      9   \n",
       "3         Lvl    AllPub  ...        0    NaN   NaN         NaN       0      2   \n",
       "4         Lvl    AllPub  ...        0    NaN   NaN         NaN       0     12   \n",
       "\n",
       "  YrSold  SaleType  SaleCondition  SalePrice  \n",
       "0   2008        WD         Normal     208500  \n",
       "1   2007        WD         Normal     181500  \n",
       "2   2008        WD         Normal     223500  \n",
       "3   2006        WD        Abnorml     140000  \n",
       "4   2008        WD         Normal     250000  \n",
       "\n",
       "[5 rows x 81 columns]"
      ]
     },
     "execution_count": 42,
     "metadata": {},
     "output_type": "execute_result"
    }
   ],
   "source": [
    "bostonData = pd.read_csv(\"train.csv\")\n",
    "bostonData.head()"
   ]
  },
  {
   "cell_type": "code",
   "execution_count": 43,
   "metadata": {},
   "outputs": [],
   "source": [
    "X = bostonData.drop([\"SalePrice\"], axis=1)\n",
    "y = bostonData[[\"SalePrice\"]]"
   ]
  },
  {
   "cell_type": "code",
   "execution_count": 44,
   "metadata": {},
   "outputs": [],
   "source": [
    "from sklearn.model_selection import train_test_split\n",
    "\n",
    "x_train, x_test, y_train, y_test = train_test_split(X,y,\n",
    "                                                    test_size=0.1,random_state=1212121)"
   ]
  },
  {
   "cell_type": "code",
   "execution_count": 45,
   "metadata": {},
   "outputs": [
    {
     "data": {
      "text/plain": [
       "((1314, 80), (146, 80), (1314, 1), (146, 1))"
      ]
     },
     "execution_count": 45,
     "metadata": {},
     "output_type": "execute_result"
    }
   ],
   "source": [
    "x_train.shape, x_test.shape, y_train.shape, y_test.shape"
   ]
  },
  {
   "cell_type": "markdown",
   "metadata": {},
   "source": [
    "# Processing of Training Set"
   ]
  },
  {
   "cell_type": "code",
   "execution_count": 46,
   "metadata": {},
   "outputs": [],
   "source": [
    "bostonDataCategorical = x_train.select_dtypes(object)\n",
    "bostonDataNumerical = x_train.select_dtypes(np.number)"
   ]
  },
  {
   "cell_type": "code",
   "execution_count": 47,
   "metadata": {},
   "outputs": [
    {
     "data": {
      "text/plain": [
       "MSZoning            0\n",
       "Street              0\n",
       "Alley            1234\n",
       "LotShape            0\n",
       "LandContour         0\n",
       "Utilities           0\n",
       "LotConfig           0\n",
       "LandSlope           0\n",
       "Neighborhood        0\n",
       "Condition1          0\n",
       "Condition2          0\n",
       "BldgType            0\n",
       "HouseStyle          0\n",
       "RoofStyle           0\n",
       "RoofMatl            0\n",
       "Exterior1st         0\n",
       "Exterior2nd         0\n",
       "MasVnrType          7\n",
       "ExterQual           0\n",
       "ExterCond           0\n",
       "Foundation          0\n",
       "BsmtQual           32\n",
       "BsmtCond           32\n",
       "BsmtExposure       33\n",
       "BsmtFinType1       32\n",
       "BsmtFinType2       33\n",
       "Heating             0\n",
       "HeatingQC           0\n",
       "CentralAir          0\n",
       "Electrical          1\n",
       "KitchenQual         0\n",
       "Functional          0\n",
       "FireplaceQu       621\n",
       "GarageType         76\n",
       "GarageFinish       76\n",
       "GarageQual         76\n",
       "GarageCond         76\n",
       "PavedDrive          0\n",
       "PoolQC           1308\n",
       "Fence            1072\n",
       "MiscFeature      1267\n",
       "SaleType            0\n",
       "SaleCondition       0\n",
       "dtype: int64"
      ]
     },
     "execution_count": 47,
     "metadata": {},
     "output_type": "execute_result"
    }
   ],
   "source": [
    "bostonDataCategorical.isna().sum()"
   ]
  },
  {
   "cell_type": "code",
   "execution_count": 48,
   "metadata": {},
   "outputs": [
    {
     "data": {
      "text/plain": [
       "(1460, 81)"
      ]
     },
     "execution_count": 48,
     "metadata": {},
     "output_type": "execute_result"
    }
   ],
   "source": [
    "bostonData.shape"
   ]
  },
  {
   "cell_type": "code",
   "execution_count": 49,
   "metadata": {},
   "outputs": [
    {
     "name": "stderr",
     "output_type": "stream",
     "text": [
      "/Users/ag78400/opt/anaconda3/envs/AI_for_Healthcare/lib/python3.7/site-packages/pandas/core/frame.py:4315: SettingWithCopyWarning: \n",
      "A value is trying to be set on a copy of a slice from a DataFrame\n",
      "\n",
      "See the caveats in the documentation: https://pandas.pydata.org/pandas-docs/stable/user_guide/indexing.html#returning-a-view-versus-a-copy\n",
      "  errors=errors,\n"
     ]
    }
   ],
   "source": [
    "bostonDataCategorical.drop([\"MiscFeature\", \"Fence\", \"PoolQC\", \"Alley\"], \n",
    "                           axis=1, inplace=True)"
   ]
  },
  {
   "cell_type": "code",
   "execution_count": 50,
   "metadata": {},
   "outputs": [],
   "source": [
    "from sklearn.impute import SimpleImputer\n",
    "sImputer = SimpleImputer(strategy=\"most_frequent\")"
   ]
  },
  {
   "cell_type": "code",
   "execution_count": 51,
   "metadata": {},
   "outputs": [
    {
     "data": {
      "text/plain": [
       "SimpleImputer(strategy='most_frequent')"
      ]
     },
     "execution_count": 51,
     "metadata": {},
     "output_type": "execute_result"
    }
   ],
   "source": [
    "sImputer.fit(bostonDataCategorical)"
   ]
  },
  {
   "cell_type": "code",
   "execution_count": 52,
   "metadata": {},
   "outputs": [],
   "source": [
    "temp = sImputer.transform(bostonDataCategorical)\n",
    "bostonDataCategoricalNARemoved = pd.DataFrame(temp, \n",
    "                                              columns=bostonDataCategorical.columns)"
   ]
  },
  {
   "cell_type": "markdown",
   "metadata": {},
   "source": [
    "# Imputation of Numerical Columns"
   ]
  },
  {
   "cell_type": "code",
   "execution_count": 53,
   "metadata": {},
   "outputs": [],
   "source": [
    "sImputerNumerical = SimpleImputer(strategy=\"mean\")"
   ]
  },
  {
   "cell_type": "code",
   "execution_count": 54,
   "metadata": {},
   "outputs": [
    {
     "data": {
      "text/plain": [
       "SimpleImputer()"
      ]
     },
     "execution_count": 54,
     "metadata": {},
     "output_type": "execute_result"
    }
   ],
   "source": [
    "sImputerNumerical.fit(bostonDataNumerical)"
   ]
  },
  {
   "cell_type": "code",
   "execution_count": 55,
   "metadata": {},
   "outputs": [],
   "source": [
    "temp = sImputerNumerical.transform(bostonDataNumerical)\n",
    "bostonDataNumericalNARemoved = pd.DataFrame(temp,\n",
    "                                            columns=bostonDataNumerical.columns)"
   ]
  },
  {
   "cell_type": "markdown",
   "metadata": {},
   "source": [
    "# Data Processing"
   ]
  },
  {
   "cell_type": "code",
   "execution_count": 56,
   "metadata": {},
   "outputs": [],
   "source": [
    "from sklearn.preprocessing import LabelEncoder\n",
    "le = LabelEncoder()"
   ]
  },
  {
   "cell_type": "code",
   "execution_count": 57,
   "metadata": {},
   "outputs": [],
   "source": [
    "bostonDataCategoricalEncoded = bostonDataCategoricalNARemoved.apply(le.fit_transform)"
   ]
  },
  {
   "cell_type": "code",
   "execution_count": 58,
   "metadata": {},
   "outputs": [],
   "source": [
    "from sklearn.preprocessing import StandardScaler\n",
    "ss = StandardScaler()"
   ]
  },
  {
   "cell_type": "code",
   "execution_count": 59,
   "metadata": {},
   "outputs": [
    {
     "data": {
      "text/plain": [
       "StandardScaler()"
      ]
     },
     "execution_count": 59,
     "metadata": {},
     "output_type": "execute_result"
    }
   ],
   "source": [
    "ss.fit(bostonDataNumericalNARemoved)"
   ]
  },
  {
   "cell_type": "code",
   "execution_count": 60,
   "metadata": {},
   "outputs": [],
   "source": [
    "temp = ss.transform(bostonDataNumericalNARemoved)\n",
    "bostonDataNumericalEncoded = pd.DataFrame(temp,\n",
    "                                          columns=bostonDataNumericalNARemoved.columns)"
   ]
  },
  {
   "cell_type": "code",
   "execution_count": 61,
   "metadata": {},
   "outputs": [
    {
     "data": {
      "text/html": [
       "<div>\n",
       "<style scoped>\n",
       "    .dataframe tbody tr th:only-of-type {\n",
       "        vertical-align: middle;\n",
       "    }\n",
       "\n",
       "    .dataframe tbody tr th {\n",
       "        vertical-align: top;\n",
       "    }\n",
       "\n",
       "    .dataframe thead th {\n",
       "        text-align: right;\n",
       "    }\n",
       "</style>\n",
       "<table border=\"1\" class=\"dataframe\">\n",
       "  <thead>\n",
       "    <tr style=\"text-align: right;\">\n",
       "      <th></th>\n",
       "      <th>Id</th>\n",
       "      <th>MSSubClass</th>\n",
       "      <th>LotFrontage</th>\n",
       "      <th>LotArea</th>\n",
       "      <th>OverallQual</th>\n",
       "      <th>OverallCond</th>\n",
       "      <th>YearBuilt</th>\n",
       "      <th>YearRemodAdd</th>\n",
       "      <th>MasVnrArea</th>\n",
       "      <th>BsmtFinSF1</th>\n",
       "      <th>...</th>\n",
       "      <th>GarageArea</th>\n",
       "      <th>WoodDeckSF</th>\n",
       "      <th>OpenPorchSF</th>\n",
       "      <th>EnclosedPorch</th>\n",
       "      <th>3SsnPorch</th>\n",
       "      <th>ScreenPorch</th>\n",
       "      <th>PoolArea</th>\n",
       "      <th>MiscVal</th>\n",
       "      <th>MoSold</th>\n",
       "      <th>YrSold</th>\n",
       "    </tr>\n",
       "  </thead>\n",
       "  <tbody>\n",
       "    <tr>\n",
       "      <th>0</th>\n",
       "      <td>-1.601827</td>\n",
       "      <td>-0.876831</td>\n",
       "      <td>-0.323803</td>\n",
       "      <td>0.244667</td>\n",
       "      <td>-0.080784</td>\n",
       "      <td>-0.520904</td>\n",
       "      <td>1.079716</td>\n",
       "      <td>0.922710</td>\n",
       "      <td>-0.585898</td>\n",
       "      <td>1.067308</td>\n",
       "      <td>...</td>\n",
       "      <td>0.468344</td>\n",
       "      <td>-0.746343</td>\n",
       "      <td>0.027019</td>\n",
       "      <td>-0.360316</td>\n",
       "      <td>-0.1159</td>\n",
       "      <td>-0.27203</td>\n",
       "      <td>-0.066914</td>\n",
       "      <td>-0.085573</td>\n",
       "      <td>-0.478920</td>\n",
       "      <td>-1.374188</td>\n",
       "    </tr>\n",
       "    <tr>\n",
       "      <th>1</th>\n",
       "      <td>0.244221</td>\n",
       "      <td>0.079811</td>\n",
       "      <td>-1.185776</td>\n",
       "      <td>-0.098361</td>\n",
       "      <td>0.646270</td>\n",
       "      <td>0.378528</td>\n",
       "      <td>1.046625</td>\n",
       "      <td>0.874119</td>\n",
       "      <td>0.692495</td>\n",
       "      <td>0.073345</td>\n",
       "      <td>...</td>\n",
       "      <td>0.639498</td>\n",
       "      <td>0.776450</td>\n",
       "      <td>-0.136591</td>\n",
       "      <td>-0.360316</td>\n",
       "      <td>-0.1159</td>\n",
       "      <td>-0.27203</td>\n",
       "      <td>-0.066914</td>\n",
       "      <td>-0.085573</td>\n",
       "      <td>-1.956152</td>\n",
       "      <td>1.650406</td>\n",
       "    </tr>\n",
       "    <tr>\n",
       "      <th>2</th>\n",
       "      <td>-0.611848</td>\n",
       "      <td>1.514775</td>\n",
       "      <td>-1.321876</td>\n",
       "      <td>-0.508943</td>\n",
       "      <td>1.373324</td>\n",
       "      <td>-0.520904</td>\n",
       "      <td>0.947352</td>\n",
       "      <td>0.728346</td>\n",
       "      <td>-0.585898</td>\n",
       "      <td>1.620716</td>\n",
       "      <td>...</td>\n",
       "      <td>0.112159</td>\n",
       "      <td>0.015054</td>\n",
       "      <td>-0.002728</td>\n",
       "      <td>-0.360316</td>\n",
       "      <td>-0.1159</td>\n",
       "      <td>-0.27203</td>\n",
       "      <td>-0.066914</td>\n",
       "      <td>-0.085573</td>\n",
       "      <td>0.629004</td>\n",
       "      <td>-0.618039</td>\n",
       "    </tr>\n",
       "    <tr>\n",
       "      <th>3</th>\n",
       "      <td>-0.984884</td>\n",
       "      <td>0.079811</td>\n",
       "      <td>0.901105</td>\n",
       "      <td>-0.064097</td>\n",
       "      <td>0.646270</td>\n",
       "      <td>-0.520904</td>\n",
       "      <td>0.715714</td>\n",
       "      <td>0.388210</td>\n",
       "      <td>0.881674</td>\n",
       "      <td>1.167139</td>\n",
       "      <td>...</td>\n",
       "      <td>0.838407</td>\n",
       "      <td>1.950269</td>\n",
       "      <td>0.175756</td>\n",
       "      <td>2.048362</td>\n",
       "      <td>-0.1159</td>\n",
       "      <td>-0.27203</td>\n",
       "      <td>-0.066914</td>\n",
       "      <td>-0.085573</td>\n",
       "      <td>-0.848228</td>\n",
       "      <td>0.894258</td>\n",
       "    </tr>\n",
       "    <tr>\n",
       "      <th>4</th>\n",
       "      <td>0.036182</td>\n",
       "      <td>0.079811</td>\n",
       "      <td>0.000000</td>\n",
       "      <td>-0.155305</td>\n",
       "      <td>1.373324</td>\n",
       "      <td>3.076827</td>\n",
       "      <td>0.153166</td>\n",
       "      <td>0.533982</td>\n",
       "      <td>1.070853</td>\n",
       "      <td>0.273006</td>\n",
       "      <td>...</td>\n",
       "      <td>1.647918</td>\n",
       "      <td>-0.746343</td>\n",
       "      <td>2.317558</td>\n",
       "      <td>-0.360316</td>\n",
       "      <td>-0.1159</td>\n",
       "      <td>-0.27203</td>\n",
       "      <td>-0.066914</td>\n",
       "      <td>-0.085573</td>\n",
       "      <td>0.259696</td>\n",
       "      <td>0.138109</td>\n",
       "    </tr>\n",
       "  </tbody>\n",
       "</table>\n",
       "<p>5 rows × 37 columns</p>\n",
       "</div>"
      ],
      "text/plain": [
       "         Id  MSSubClass  LotFrontage   LotArea  OverallQual  OverallCond  \\\n",
       "0 -1.601827   -0.876831    -0.323803  0.244667    -0.080784    -0.520904   \n",
       "1  0.244221    0.079811    -1.185776 -0.098361     0.646270     0.378528   \n",
       "2 -0.611848    1.514775    -1.321876 -0.508943     1.373324    -0.520904   \n",
       "3 -0.984884    0.079811     0.901105 -0.064097     0.646270    -0.520904   \n",
       "4  0.036182    0.079811     0.000000 -0.155305     1.373324     3.076827   \n",
       "\n",
       "   YearBuilt  YearRemodAdd  MasVnrArea  BsmtFinSF1  ...  GarageArea  \\\n",
       "0   1.079716      0.922710   -0.585898    1.067308  ...    0.468344   \n",
       "1   1.046625      0.874119    0.692495    0.073345  ...    0.639498   \n",
       "2   0.947352      0.728346   -0.585898    1.620716  ...    0.112159   \n",
       "3   0.715714      0.388210    0.881674    1.167139  ...    0.838407   \n",
       "4   0.153166      0.533982    1.070853    0.273006  ...    1.647918   \n",
       "\n",
       "   WoodDeckSF  OpenPorchSF  EnclosedPorch  3SsnPorch  ScreenPorch  PoolArea  \\\n",
       "0   -0.746343     0.027019      -0.360316    -0.1159     -0.27203 -0.066914   \n",
       "1    0.776450    -0.136591      -0.360316    -0.1159     -0.27203 -0.066914   \n",
       "2    0.015054    -0.002728      -0.360316    -0.1159     -0.27203 -0.066914   \n",
       "3    1.950269     0.175756       2.048362    -0.1159     -0.27203 -0.066914   \n",
       "4   -0.746343     2.317558      -0.360316    -0.1159     -0.27203 -0.066914   \n",
       "\n",
       "    MiscVal    MoSold    YrSold  \n",
       "0 -0.085573 -0.478920 -1.374188  \n",
       "1 -0.085573 -1.956152  1.650406  \n",
       "2 -0.085573  0.629004 -0.618039  \n",
       "3 -0.085573 -0.848228  0.894258  \n",
       "4 -0.085573  0.259696  0.138109  \n",
       "\n",
       "[5 rows x 37 columns]"
      ]
     },
     "execution_count": 61,
     "metadata": {},
     "output_type": "execute_result"
    }
   ],
   "source": [
    "bostonDataNumericalEncoded.head()"
   ]
  },
  {
   "cell_type": "code",
   "execution_count": 62,
   "metadata": {},
   "outputs": [],
   "source": [
    "bostonDataFinal = pd.concat([bostonDataCategoricalEncoded, bostonDataNumericalEncoded],\n",
    "                            axis=1)"
   ]
  },
  {
   "cell_type": "code",
   "execution_count": 63,
   "metadata": {},
   "outputs": [],
   "source": [
    "from sklearn.linear_model import LinearRegression, SGDRegressor\n",
    "lr = LinearRegression()\n",
    "sgdR = SGDRegressor(loss=\"squared_epsilon_insensitive\",\n",
    "                    penalty='elasticnet',\n",
    "    alpha=0.005,\n",
    "    l1_ratio=0.15,\n",
    "    fit_intercept=True,\n",
    "    max_iter=100,\n",
    "    tol=0.001,\n",
    "    shuffle=True,\n",
    "    verbose=0,\n",
    "    epsilon=0.1,\n",
    "    random_state=None,\n",
    "    learning_rate='optimal',\n",
    "    eta0=0.01,\n",
    "    power_t=0.25,\n",
    "    early_stopping=False,\n",
    "    validation_fraction=0.1,\n",
    "    n_iter_no_change=50,\n",
    "    warm_start=False,\n",
    "    average=False)"
   ]
  },
  {
   "cell_type": "code",
   "execution_count": 64,
   "metadata": {},
   "outputs": [],
   "source": [
    "from sklearn.linear_model import Lasso, Ridge, ElasticNet\n",
    "\n",
    "lasso=Lasso(alpha=0.5)\n",
    "ridge=Ridge(alpha=0.5)\n",
    "eNet = ElasticNet(l1_ratio=0.3)"
   ]
  },
  {
   "cell_type": "code",
   "execution_count": 65,
   "metadata": {},
   "outputs": [
    {
     "data": {
      "text/plain": [
       "LinearRegression()"
      ]
     },
     "execution_count": 65,
     "metadata": {},
     "output_type": "execute_result"
    }
   ],
   "source": [
    "lr.fit(bostonDataFinal.to_numpy(), y_train.to_numpy())"
   ]
  },
  {
   "cell_type": "code",
   "execution_count": 66,
   "metadata": {},
   "outputs": [
    {
     "data": {
      "text/plain": [
       "Lasso(alpha=0.5)"
      ]
     },
     "execution_count": 66,
     "metadata": {},
     "output_type": "execute_result"
    }
   ],
   "source": [
    "lasso.fit(bostonDataFinal.to_numpy(), y_train.to_numpy())"
   ]
  },
  {
   "cell_type": "code",
   "execution_count": 67,
   "metadata": {},
   "outputs": [
    {
     "data": {
      "text/plain": [
       "Ridge(alpha=0.5)"
      ]
     },
     "execution_count": 67,
     "metadata": {},
     "output_type": "execute_result"
    }
   ],
   "source": [
    "ridge.fit(bostonDataFinal.to_numpy(), y_train.to_numpy())"
   ]
  },
  {
   "cell_type": "code",
   "execution_count": 68,
   "metadata": {},
   "outputs": [
    {
     "data": {
      "text/plain": [
       "ElasticNet(l1_ratio=0.3)"
      ]
     },
     "execution_count": 68,
     "metadata": {},
     "output_type": "execute_result"
    }
   ],
   "source": [
    "eNet.fit(bostonDataFinal.to_numpy(), y_train.to_numpy())"
   ]
  },
  {
   "cell_type": "code",
   "execution_count": 69,
   "metadata": {},
   "outputs": [
    {
     "name": "stderr",
     "output_type": "stream",
     "text": [
      "/Users/ag78400/opt/anaconda3/envs/AI_for_Healthcare/lib/python3.7/site-packages/sklearn/utils/validation.py:63: DataConversionWarning: A column-vector y was passed when a 1d array was expected. Please change the shape of y to (n_samples, ), for example using ravel().\n",
      "  return f(*args, **kwargs)\n",
      "/Users/ag78400/opt/anaconda3/envs/AI_for_Healthcare/lib/python3.7/site-packages/sklearn/linear_model/_stochastic_gradient.py:1223: ConvergenceWarning: Maximum number of iteration reached before convergence. Consider increasing max_iter to improve the fit.\n",
      "  ConvergenceWarning)\n"
     ]
    },
    {
     "data": {
      "text/plain": [
       "SGDRegressor(alpha=0.005, learning_rate='optimal',\n",
       "             loss='squared_epsilon_insensitive', max_iter=100,\n",
       "             n_iter_no_change=50, penalty='elasticnet')"
      ]
     },
     "execution_count": 69,
     "metadata": {},
     "output_type": "execute_result"
    }
   ],
   "source": [
    "sgdR.fit(bostonDataFinal.to_numpy(), y_train.to_numpy())"
   ]
  },
  {
   "cell_type": "markdown",
   "metadata": {},
   "source": [
    "# Preparation of Test Set"
   ]
  },
  {
   "cell_type": "code",
   "execution_count": 70,
   "metadata": {},
   "outputs": [],
   "source": [
    "bostonDataCategorical = x_test.select_dtypes(object)\n",
    "bostonDataNumerical = x_test.select_dtypes(np.number)"
   ]
  },
  {
   "cell_type": "code",
   "execution_count": 71,
   "metadata": {},
   "outputs": [
    {
     "name": "stderr",
     "output_type": "stream",
     "text": [
      "/Users/ag78400/opt/anaconda3/envs/AI_for_Healthcare/lib/python3.7/site-packages/pandas/core/frame.py:4315: SettingWithCopyWarning: \n",
      "A value is trying to be set on a copy of a slice from a DataFrame\n",
      "\n",
      "See the caveats in the documentation: https://pandas.pydata.org/pandas-docs/stable/user_guide/indexing.html#returning-a-view-versus-a-copy\n",
      "  errors=errors,\n"
     ]
    }
   ],
   "source": [
    "bostonDataCategorical.drop([\"MiscFeature\", \"Fence\", \"PoolQC\", \"Alley\"], \n",
    "                           axis=1, inplace=True)"
   ]
  },
  {
   "cell_type": "code",
   "execution_count": 72,
   "metadata": {},
   "outputs": [],
   "source": [
    "temp = sImputer.transform(bostonDataCategorical)\n",
    "bostonDataCategoricalNARemoved = pd.DataFrame(temp, \n",
    "                                              columns=bostonDataCategorical.columns)"
   ]
  },
  {
   "cell_type": "markdown",
   "metadata": {},
   "source": [
    "# Imputation of Numerical Columns"
   ]
  },
  {
   "cell_type": "code",
   "execution_count": 73,
   "metadata": {},
   "outputs": [],
   "source": [
    "temp = sImputerNumerical.transform(bostonDataNumerical)\n",
    "bostonDataNumericalNARemoved = pd.DataFrame(temp,\n",
    "                                            columns=bostonDataNumerical.columns)"
   ]
  },
  {
   "cell_type": "markdown",
   "metadata": {},
   "source": [
    "# Data Processing"
   ]
  },
  {
   "cell_type": "code",
   "execution_count": 74,
   "metadata": {},
   "outputs": [],
   "source": [
    "bostonDataCategoricalEncoded = bostonDataCategoricalNARemoved.apply(le.fit_transform)"
   ]
  },
  {
   "cell_type": "code",
   "execution_count": 75,
   "metadata": {},
   "outputs": [],
   "source": [
    "temp = ss.transform(bostonDataNumericalNARemoved)\n",
    "bostonDataNumericalEncoded = pd.DataFrame(temp,\n",
    "                                          columns=bostonDataNumericalNARemoved.columns)"
   ]
  },
  {
   "cell_type": "code",
   "execution_count": 76,
   "metadata": {},
   "outputs": [
    {
     "data": {
      "text/html": [
       "<div>\n",
       "<style scoped>\n",
       "    .dataframe tbody tr th:only-of-type {\n",
       "        vertical-align: middle;\n",
       "    }\n",
       "\n",
       "    .dataframe tbody tr th {\n",
       "        vertical-align: top;\n",
       "    }\n",
       "\n",
       "    .dataframe thead th {\n",
       "        text-align: right;\n",
       "    }\n",
       "</style>\n",
       "<table border=\"1\" class=\"dataframe\">\n",
       "  <thead>\n",
       "    <tr style=\"text-align: right;\">\n",
       "      <th></th>\n",
       "      <th>Id</th>\n",
       "      <th>MSSubClass</th>\n",
       "      <th>LotFrontage</th>\n",
       "      <th>LotArea</th>\n",
       "      <th>OverallQual</th>\n",
       "      <th>OverallCond</th>\n",
       "      <th>YearBuilt</th>\n",
       "      <th>YearRemodAdd</th>\n",
       "      <th>MasVnrArea</th>\n",
       "      <th>BsmtFinSF1</th>\n",
       "      <th>...</th>\n",
       "      <th>GarageArea</th>\n",
       "      <th>WoodDeckSF</th>\n",
       "      <th>OpenPorchSF</th>\n",
       "      <th>EnclosedPorch</th>\n",
       "      <th>3SsnPorch</th>\n",
       "      <th>ScreenPorch</th>\n",
       "      <th>PoolArea</th>\n",
       "      <th>MiscVal</th>\n",
       "      <th>MoSold</th>\n",
       "      <th>YrSold</th>\n",
       "    </tr>\n",
       "  </thead>\n",
       "  <tbody>\n",
       "    <tr>\n",
       "      <th>0</th>\n",
       "      <td>0.727254</td>\n",
       "      <td>-0.637671</td>\n",
       "      <td>-0.913574</td>\n",
       "      <td>-0.414036</td>\n",
       "      <td>-0.807838</td>\n",
       "      <td>1.277961</td>\n",
       "      <td>-1.104295</td>\n",
       "      <td>-1.701199</td>\n",
       "      <td>-0.585898</td>\n",
       "      <td>-0.974874</td>\n",
       "      <td>...</td>\n",
       "      <td>-1.085918</td>\n",
       "      <td>-0.746343</td>\n",
       "      <td>-0.716662</td>\n",
       "      <td>-0.360316</td>\n",
       "      <td>-0.1159</td>\n",
       "      <td>-0.27203</td>\n",
       "      <td>-0.066914</td>\n",
       "      <td>-0.085573</td>\n",
       "      <td>-0.109612</td>\n",
       "      <td>-0.618039</td>\n",
       "    </tr>\n",
       "    <tr>\n",
       "      <th>1</th>\n",
       "      <td>1.050074</td>\n",
       "      <td>0.079811</td>\n",
       "      <td>2.171380</td>\n",
       "      <td>2.453129</td>\n",
       "      <td>2.827431</td>\n",
       "      <td>-0.520904</td>\n",
       "      <td>0.781896</td>\n",
       "      <td>0.533982</td>\n",
       "      <td>7.313766</td>\n",
       "      <td>2.035229</td>\n",
       "      <td>...</td>\n",
       "      <td>1.536900</td>\n",
       "      <td>2.116825</td>\n",
       "      <td>0.413734</td>\n",
       "      <td>-0.360316</td>\n",
       "      <td>-0.1159</td>\n",
       "      <td>-0.27203</td>\n",
       "      <td>-0.066914</td>\n",
       "      <td>-0.085573</td>\n",
       "      <td>0.259696</td>\n",
       "      <td>-1.374188</td>\n",
       "    </tr>\n",
       "    <tr>\n",
       "      <th>2</th>\n",
       "      <td>1.571367</td>\n",
       "      <td>-0.159349</td>\n",
       "      <td>-0.459904</td>\n",
       "      <td>-0.198427</td>\n",
       "      <td>-0.080784</td>\n",
       "      <td>1.277961</td>\n",
       "      <td>-1.832299</td>\n",
       "      <td>-1.701199</td>\n",
       "      <td>-0.585898</td>\n",
       "      <td>-0.610276</td>\n",
       "      <td>...</td>\n",
       "      <td>-1.196936</td>\n",
       "      <td>-0.048396</td>\n",
       "      <td>-0.493558</td>\n",
       "      <td>-0.360316</td>\n",
       "      <td>-0.1159</td>\n",
       "      <td>-0.27203</td>\n",
       "      <td>-0.066914</td>\n",
       "      <td>-0.085573</td>\n",
       "      <td>0.629004</td>\n",
       "      <td>-0.618039</td>\n",
       "    </tr>\n",
       "    <tr>\n",
       "      <th>3</th>\n",
       "      <td>1.136159</td>\n",
       "      <td>-0.876831</td>\n",
       "      <td>0.901105</td>\n",
       "      <td>0.401580</td>\n",
       "      <td>0.646270</td>\n",
       "      <td>1.277961</td>\n",
       "      <td>0.616441</td>\n",
       "      <td>0.291028</td>\n",
       "      <td>0.755554</td>\n",
       "      <td>0.077685</td>\n",
       "      <td>...</td>\n",
       "      <td>1.046567</td>\n",
       "      <td>-0.080121</td>\n",
       "      <td>0.324492</td>\n",
       "      <td>-0.360316</td>\n",
       "      <td>-0.1159</td>\n",
       "      <td>-0.27203</td>\n",
       "      <td>-0.066914</td>\n",
       "      <td>-0.085573</td>\n",
       "      <td>-0.109612</td>\n",
       "      <td>0.894258</td>\n",
       "    </tr>\n",
       "    <tr>\n",
       "      <th>4</th>\n",
       "      <td>-1.549220</td>\n",
       "      <td>-0.876831</td>\n",
       "      <td>0.356702</td>\n",
       "      <td>-0.034311</td>\n",
       "      <td>1.373324</td>\n",
       "      <td>-0.520904</td>\n",
       "      <td>1.178989</td>\n",
       "      <td>1.068482</td>\n",
       "      <td>2.097007</td>\n",
       "      <td>-0.903256</td>\n",
       "      <td>...</td>\n",
       "      <td>1.310236</td>\n",
       "      <td>0.395752</td>\n",
       "      <td>0.755827</td>\n",
       "      <td>-0.360316</td>\n",
       "      <td>-0.1159</td>\n",
       "      <td>-0.27203</td>\n",
       "      <td>-0.066914</td>\n",
       "      <td>-0.085573</td>\n",
       "      <td>1.367620</td>\n",
       "      <td>0.138109</td>\n",
       "    </tr>\n",
       "  </tbody>\n",
       "</table>\n",
       "<p>5 rows × 37 columns</p>\n",
       "</div>"
      ],
      "text/plain": [
       "         Id  MSSubClass  LotFrontage   LotArea  OverallQual  OverallCond  \\\n",
       "0  0.727254   -0.637671    -0.913574 -0.414036    -0.807838     1.277961   \n",
       "1  1.050074    0.079811     2.171380  2.453129     2.827431    -0.520904   \n",
       "2  1.571367   -0.159349    -0.459904 -0.198427    -0.080784     1.277961   \n",
       "3  1.136159   -0.876831     0.901105  0.401580     0.646270     1.277961   \n",
       "4 -1.549220   -0.876831     0.356702 -0.034311     1.373324    -0.520904   \n",
       "\n",
       "   YearBuilt  YearRemodAdd  MasVnrArea  BsmtFinSF1  ...  GarageArea  \\\n",
       "0  -1.104295     -1.701199   -0.585898   -0.974874  ...   -1.085918   \n",
       "1   0.781896      0.533982    7.313766    2.035229  ...    1.536900   \n",
       "2  -1.832299     -1.701199   -0.585898   -0.610276  ...   -1.196936   \n",
       "3   0.616441      0.291028    0.755554    0.077685  ...    1.046567   \n",
       "4   1.178989      1.068482    2.097007   -0.903256  ...    1.310236   \n",
       "\n",
       "   WoodDeckSF  OpenPorchSF  EnclosedPorch  3SsnPorch  ScreenPorch  PoolArea  \\\n",
       "0   -0.746343    -0.716662      -0.360316    -0.1159     -0.27203 -0.066914   \n",
       "1    2.116825     0.413734      -0.360316    -0.1159     -0.27203 -0.066914   \n",
       "2   -0.048396    -0.493558      -0.360316    -0.1159     -0.27203 -0.066914   \n",
       "3   -0.080121     0.324492      -0.360316    -0.1159     -0.27203 -0.066914   \n",
       "4    0.395752     0.755827      -0.360316    -0.1159     -0.27203 -0.066914   \n",
       "\n",
       "    MiscVal    MoSold    YrSold  \n",
       "0 -0.085573 -0.109612 -0.618039  \n",
       "1 -0.085573  0.259696 -1.374188  \n",
       "2 -0.085573  0.629004 -0.618039  \n",
       "3 -0.085573 -0.109612  0.894258  \n",
       "4 -0.085573  1.367620  0.138109  \n",
       "\n",
       "[5 rows x 37 columns]"
      ]
     },
     "execution_count": 76,
     "metadata": {},
     "output_type": "execute_result"
    }
   ],
   "source": [
    "bostonDataNumericalEncoded.head()"
   ]
  },
  {
   "cell_type": "code",
   "execution_count": 77,
   "metadata": {},
   "outputs": [],
   "source": [
    "bostonDataTestFinal = pd.concat([bostonDataCategoricalEncoded, bostonDataNumericalEncoded],\n",
    "                            axis=1)"
   ]
  },
  {
   "cell_type": "code",
   "execution_count": 78,
   "metadata": {},
   "outputs": [],
   "source": [
    "predictions_lr = lr.predict(bostonDataTestFinal)\n",
    "predictions_sgd = sgdR.predict(bostonDataTestFinal)"
   ]
  },
  {
   "cell_type": "code",
   "execution_count": 79,
   "metadata": {},
   "outputs": [],
   "source": [
    "from sklearn.metrics import mean_squared_error, r2_score"
   ]
  },
  {
   "cell_type": "code",
   "execution_count": 80,
   "metadata": {},
   "outputs": [
    {
     "data": {
      "text/plain": [
       "44448.46883003541"
      ]
     },
     "execution_count": 80,
     "metadata": {},
     "output_type": "execute_result"
    }
   ],
   "source": [
    "np.sqrt(mean_squared_error(predictions_lr, y_test))"
   ]
  },
  {
   "cell_type": "code",
   "execution_count": 81,
   "metadata": {},
   "outputs": [
    {
     "data": {
      "text/plain": [
       "0.6608426838173449"
      ]
     },
     "execution_count": 81,
     "metadata": {},
     "output_type": "execute_result"
    }
   ],
   "source": [
    "r2_score(predictions_lr, y_test)"
   ]
  },
  {
   "cell_type": "code",
   "execution_count": 82,
   "metadata": {},
   "outputs": [
    {
     "data": {
      "text/plain": [
       "345300045917.16034"
      ]
     },
     "execution_count": 82,
     "metadata": {},
     "output_type": "execute_result"
    }
   ],
   "source": [
    "np.sqrt(mean_squared_error(predictions_sgd, y_test))"
   ]
  },
  {
   "cell_type": "code",
   "execution_count": 83,
   "metadata": {},
   "outputs": [
    {
     "data": {
      "text/plain": [
       "-4.159863025795548"
      ]
     },
     "execution_count": 83,
     "metadata": {},
     "output_type": "execute_result"
    }
   ],
   "source": [
    "r2_score(predictions_sgd, y_test)"
   ]
  },
  {
   "cell_type": "code",
   "execution_count": 84,
   "metadata": {},
   "outputs": [],
   "source": [
    "predictions_lasso = lasso.predict(bostonDataTestFinal)\n",
    "predictions_ridge = ridge.predict(bostonDataTestFinal)\n",
    "predictions_enet = eNet.predict(bostonDataTestFinal)"
   ]
  },
  {
   "cell_type": "code",
   "execution_count": 85,
   "metadata": {},
   "outputs": [
    {
     "data": {
      "text/plain": [
       "39693.78362627439"
      ]
     },
     "execution_count": 85,
     "metadata": {},
     "output_type": "execute_result"
    }
   ],
   "source": [
    "np.sqrt(mean_squared_error(predictions_lasso, y_test))"
   ]
  },
  {
   "cell_type": "code",
   "execution_count": 86,
   "metadata": {},
   "outputs": [
    {
     "data": {
      "text/plain": [
       "39679.22917823129"
      ]
     },
     "execution_count": 86,
     "metadata": {},
     "output_type": "execute_result"
    }
   ],
   "source": [
    "np.sqrt(mean_squared_error(predictions_ridge, y_test))"
   ]
  },
  {
   "cell_type": "code",
   "execution_count": 87,
   "metadata": {},
   "outputs": [
    {
     "data": {
      "text/plain": [
       "44829.99785977043"
      ]
     },
     "execution_count": 87,
     "metadata": {},
     "output_type": "execute_result"
    }
   ],
   "source": [
    "np.sqrt(mean_squared_error(predictions_enet, y_test))"
   ]
  },
  {
   "cell_type": "code",
   "execution_count": null,
   "metadata": {},
   "outputs": [],
   "source": []
  }
 ],
 "metadata": {
  "kernelspec": {
   "display_name": "AI_for_Healthcare",
   "language": "python",
   "name": "ai_for_healthcare"
  },
  "language_info": {
   "codemirror_mode": {
    "name": "ipython",
    "version": 3
   },
   "file_extension": ".py",
   "mimetype": "text/x-python",
   "name": "python",
   "nbconvert_exporter": "python",
   "pygments_lexer": "ipython3",
   "version": "3.7.10"
  }
 },
 "nbformat": 4,
 "nbformat_minor": 4
}
