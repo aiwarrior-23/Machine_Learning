{
 "cells": [
  {
   "cell_type": "code",
   "execution_count": 1,
   "metadata": {},
   "outputs": [],
   "source": [
    "import pandas as pd\n",
    "import numpy as np\n",
    "import warnings\n",
    "warnings.filterwarnings('ignore')"
   ]
  },
  {
   "cell_type": "code",
   "execution_count": 2,
   "metadata": {},
   "outputs": [
    {
     "data": {
      "text/plain": [
       "['Brazilian Dataset/olist_sellers_dataset.csv',\n",
       " 'Brazilian Dataset/product_category_name_translation.csv',\n",
       " 'Brazilian Dataset/olist_orders_dataset.csv',\n",
       " 'Brazilian Dataset/olist_order_items_dataset.csv',\n",
       " 'Brazilian Dataset/olist_customers_dataset.csv',\n",
       " 'Brazilian Dataset/olist_geolocation_dataset.csv',\n",
       " 'Brazilian Dataset/olist_order_payments_dataset.csv',\n",
       " 'Brazilian Dataset/olist_order_reviews_dataset.csv',\n",
       " 'Brazilian Dataset/olist_products_dataset.csv']"
      ]
     },
     "execution_count": 2,
     "metadata": {},
     "output_type": "execute_result"
    }
   ],
   "source": [
    "import glob\n",
    "glob.glob(\"Brazilian Dataset/*\")"
   ]
  },
  {
   "cell_type": "code",
   "execution_count": 3,
   "metadata": {},
   "outputs": [],
   "source": [
    "cust_data = pd.read_csv(\"Brazilian Dataset/olist_customers_dataset.csv\")\n",
    "geo_data = pd.read_csv(\"Brazilian Dataset/olist_geolocation_dataset.csv\")\n",
    "ord_items = pd.read_csv(\"Brazilian Dataset/olist_order_items_dataset.csv\")\n",
    "ord_rev = pd.read_csv(\"Brazilian Dataset/olist_order_reviews_dataset.csv\")\n",
    "orders = pd.read_csv(\"Brazilian Dataset/olist_orders_dataset.csv\")\n",
    "products = pd.read_csv(\"Brazilian Dataset/olist_products_dataset.csv\")\n",
    "sellers = pd.read_csv(\"Brazilian Dataset/olist_sellers_dataset.csv\")\n",
    "product_cat = pd.read_csv(\"Brazilian Dataset/product_category_name_translation.csv\")\n",
    "order_payments = pd.read_csv(\"Brazilian Dataset/olist_order_payments_dataset.csv\")"
   ]
  },
  {
   "cell_type": "code",
   "execution_count": 4,
   "metadata": {},
   "outputs": [],
   "source": [
    "df1 = cust_data.merge(orders, how='inner', on='customer_id')[['customer_id', 'customer_unique_id',\n",
    "                                                      'customer_city', 'order_id', 'order_status',\n",
    "                                                      'order_delivered_customer_date',\n",
    "                                                      'order_estimated_delivery_date']]"
   ]
  },
  {
   "cell_type": "code",
   "execution_count": 5,
   "metadata": {},
   "outputs": [],
   "source": [
    "df2 = df1.merge(ord_items, how='inner', on='order_id').drop(['shipping_limit_date'],axis=1)"
   ]
  },
  {
   "cell_type": "code",
   "execution_count": 6,
   "metadata": {},
   "outputs": [],
   "source": [
    "df3 = df2.merge(ord_rev, how='inner', on='order_id').drop(['review_id','review_comment_title',\n",
    "       'review_comment_message', 'review_creation_date',\n",
    "       'review_answer_timestamp'], axis=1)"
   ]
  },
  {
   "cell_type": "code",
   "execution_count": 7,
   "metadata": {},
   "outputs": [],
   "source": [
    "df4 = df3.merge(products, how='inner', on='product_id').drop(['product_name_lenght',\n",
    "       'product_description_lenght', 'product_photos_qty', 'product_weight_g',\n",
    "       'product_length_cm', 'product_height_cm', 'product_width_cm'],axis=1)"
   ]
  },
  {
   "cell_type": "code",
   "execution_count": 8,
   "metadata": {},
   "outputs": [],
   "source": [
    "df5 = df4.merge(sellers, how='inner', on='seller_id').drop(['seller_id', \n",
    "                                                            'seller_zip_code_prefix','seller_state'],axis=1)"
   ]
  },
  {
   "cell_type": "code",
   "execution_count": 9,
   "metadata": {},
   "outputs": [
    {
     "data": {
      "text/plain": [
       "Index(['customer_id', 'customer_unique_id', 'customer_city', 'order_id',\n",
       "       'order_status', 'order_delivered_customer_date',\n",
       "       'order_estimated_delivery_date', 'order_item_id', 'product_id', 'price',\n",
       "       'freight_value', 'review_score', 'product_category_name',\n",
       "       'seller_city'],\n",
       "      dtype='object')"
      ]
     },
     "execution_count": 9,
     "metadata": {},
     "output_type": "execute_result"
    }
   ],
   "source": [
    "df5.columns"
   ]
  },
  {
   "cell_type": "code",
   "execution_count": 10,
   "metadata": {},
   "outputs": [],
   "source": [
    "final_data = df5.drop(['customer_id', 'customer_unique_id','order_id',\n",
    "       'order_item_id', 'product_id'], axis=1)"
   ]
  },
  {
   "cell_type": "code",
   "execution_count": 11,
   "metadata": {},
   "outputs": [],
   "source": [
    "final_data = final_data.dropna(axis=0)"
   ]
  },
  {
   "cell_type": "code",
   "execution_count": 12,
   "metadata": {},
   "outputs": [
    {
     "data": {
      "text/plain": [
       "customer_city                    0\n",
       "order_status                     0\n",
       "order_delivered_customer_date    0\n",
       "order_estimated_delivery_date    0\n",
       "price                            0\n",
       "freight_value                    0\n",
       "review_score                     0\n",
       "product_category_name            0\n",
       "seller_city                      0\n",
       "dtype: int64"
      ]
     },
     "execution_count": 12,
     "metadata": {},
     "output_type": "execute_result"
    }
   ],
   "source": [
    "final_data.isna().sum()"
   ]
  },
  {
   "cell_type": "code",
   "execution_count": 13,
   "metadata": {},
   "outputs": [],
   "source": [
    "data_cat = final_data.select_dtypes(object)\n",
    "data_num = final_data.select_dtypes(np.number)"
   ]
  },
  {
   "cell_type": "code",
   "execution_count": 14,
   "metadata": {},
   "outputs": [],
   "source": [
    "data_cat[\"Deliverd Days\"] = (pd.to_datetime(data_cat['order_delivered_customer_date']) - pd.to_datetime(data_cat['order_estimated_delivery_date'])).dt.days"
   ]
  },
  {
   "cell_type": "code",
   "execution_count": 15,
   "metadata": {},
   "outputs": [],
   "source": [
    "data_cat = data_cat.drop(['order_delivered_customer_date', 'order_estimated_delivery_date', 'customer_city', \n",
    "                          'seller_city', 'order_status'], axis=1)"
   ]
  },
  {
   "cell_type": "code",
   "execution_count": 16,
   "metadata": {},
   "outputs": [
    {
     "data": {
      "text/plain": [
       "<AxesSubplot:ylabel='Frequency'>"
      ]
     },
     "execution_count": 16,
     "metadata": {},
     "output_type": "execute_result"
    },
    {
     "data": {
      "image/png": "[encoded data removed]",
      "text/plain": [
       "<Figure size 432x288 with 1 Axes>"
      ]
     },
     "metadata": {
      "needs_background": "light"
     },
     "output_type": "display_data"
    }
   ],
   "source": [
    "data_cat[['Deliverd Days']].plot.hist()"
   ]
  },
  {
   "cell_type": "code",
   "execution_count": 17,
   "metadata": {},
   "outputs": [],
   "source": [
    "data_cat[['Deliverd Days']] = pd.cut(data_cat['Deliverd Days'], bins=[-100,-20,-1,1,20,100], \n",
    "labels=[\"super_fast\", \"fast\", \"on_time\", \"late\", \"superlate\"])"
   ]
  },
  {
   "cell_type": "code",
   "execution_count": 18,
   "metadata": {},
   "outputs": [],
   "source": [
    "from sklearn.preprocessing import LabelEncoder\n",
    "le = LabelEncoder()"
   ]
  },
  {
   "cell_type": "code",
   "execution_count": 19,
   "metadata": {},
   "outputs": [],
   "source": [
    "data_cat = data_cat.apply(le.fit_transform)"
   ]
  },
  {
   "cell_type": "code",
   "execution_count": 20,
   "metadata": {},
   "outputs": [
    {
     "data": {
      "text/plain": [
       "product_category_name    0\n",
       "Deliverd Days            0\n",
       "dtype: int64"
      ]
     },
     "execution_count": 20,
     "metadata": {},
     "output_type": "execute_result"
    }
   ],
   "source": [
    "data_cat.isna().sum()"
   ]
  },
  {
   "cell_type": "code",
   "execution_count": 21,
   "metadata": {},
   "outputs": [],
   "source": [
    "from sklearn.preprocessing import StandardScaler\n",
    "ss = StandardScaler()\n",
    "data_num=pd.DataFrame(ss.fit_transform(data_num), columns=data_num.columns)\n"
   ]
  },
  {
   "cell_type": "code",
   "execution_count": 22,
   "metadata": {},
   "outputs": [
    {
     "data": {
      "text/html": [
       "<div>\n",
       "<style scoped>\n",
       "    .dataframe tbody tr th:only-of-type {\n",
       "        vertical-align: middle;\n",
       "    }\n",
       "\n",
       "    .dataframe tbody tr th {\n",
       "        vertical-align: top;\n",
       "    }\n",
       "\n",
       "    .dataframe thead th {\n",
       "        text-align: right;\n",
       "    }\n",
       "</style>\n",
       "<table border=\"1\" class=\"dataframe\">\n",
       "  <thead>\n",
       "    <tr style=\"text-align: right;\">\n",
       "      <th></th>\n",
       "      <th>index</th>\n",
       "      <th>price</th>\n",
       "      <th>freight_value</th>\n",
       "      <th>review_score</th>\n",
       "    </tr>\n",
       "  </thead>\n",
       "  <tbody>\n",
       "    <tr>\n",
       "      <th>0</th>\n",
       "      <td>0</td>\n",
       "      <td>0.027814</td>\n",
       "      <td>0.121550</td>\n",
       "      <td>-0.050043</td>\n",
       "    </tr>\n",
       "    <tr>\n",
       "      <th>1</th>\n",
       "      <td>1</td>\n",
       "      <td>-0.038204</td>\n",
       "      <td>0.313815</td>\n",
       "      <td>-2.259774</td>\n",
       "    </tr>\n",
       "    <tr>\n",
       "      <th>2</th>\n",
       "      <td>2</td>\n",
       "      <td>-0.038204</td>\n",
       "      <td>0.313815</td>\n",
       "      <td>-2.259774</td>\n",
       "    </tr>\n",
       "    <tr>\n",
       "      <th>3</th>\n",
       "      <td>3</td>\n",
       "      <td>0.027814</td>\n",
       "      <td>-0.276984</td>\n",
       "      <td>-0.786620</td>\n",
       "    </tr>\n",
       "    <tr>\n",
       "      <th>4</th>\n",
       "      <td>4</td>\n",
       "      <td>-0.071214</td>\n",
       "      <td>0.676061</td>\n",
       "      <td>-0.050043</td>\n",
       "    </tr>\n",
       "    <tr>\n",
       "      <th>...</th>\n",
       "      <td>...</td>\n",
       "      <td>...</td>\n",
       "      <td>...</td>\n",
       "      <td>...</td>\n",
       "    </tr>\n",
       "    <tr>\n",
       "      <th>109297</th>\n",
       "      <td>109297</td>\n",
       "      <td>8.967924</td>\n",
       "      <td>1.212746</td>\n",
       "      <td>-0.050043</td>\n",
       "    </tr>\n",
       "    <tr>\n",
       "      <th>109298</th>\n",
       "      <td>109298</td>\n",
       "      <td>0.142852</td>\n",
       "      <td>-0.286534</td>\n",
       "      <td>0.686534</td>\n",
       "    </tr>\n",
       "    <tr>\n",
       "      <th>109299</th>\n",
       "      <td>109299</td>\n",
       "      <td>-0.385299</td>\n",
       "      <td>0.147016</td>\n",
       "      <td>0.686534</td>\n",
       "    </tr>\n",
       "    <tr>\n",
       "      <th>109300</th>\n",
       "      <td>109300</td>\n",
       "      <td>0.088277</td>\n",
       "      <td>4.360280</td>\n",
       "      <td>0.686534</td>\n",
       "    </tr>\n",
       "    <tr>\n",
       "      <th>109301</th>\n",
       "      <td>109301</td>\n",
       "      <td>0.264382</td>\n",
       "      <td>0.761371</td>\n",
       "      <td>-2.259774</td>\n",
       "    </tr>\n",
       "  </tbody>\n",
       "</table>\n",
       "<p>109302 rows × 4 columns</p>\n",
       "</div>"
      ],
      "text/plain": [
       "         index     price  freight_value  review_score\n",
       "0            0  0.027814       0.121550     -0.050043\n",
       "1            1 -0.038204       0.313815     -2.259774\n",
       "2            2 -0.038204       0.313815     -2.259774\n",
       "3            3  0.027814      -0.276984     -0.786620\n",
       "4            4 -0.071214       0.676061     -0.050043\n",
       "...        ...       ...            ...           ...\n",
       "109297  109297  8.967924       1.212746     -0.050043\n",
       "109298  109298  0.142852      -0.286534      0.686534\n",
       "109299  109299 -0.385299       0.147016      0.686534\n",
       "109300  109300  0.088277       4.360280      0.686534\n",
       "109301  109301  0.264382       0.761371     -2.259774\n",
       "\n",
       "[109302 rows x 4 columns]"
      ]
     },
     "execution_count": 22,
     "metadata": {},
     "output_type": "execute_result"
    }
   ],
   "source": [
    "data_num.reset_index(inplace=True)\n",
    "data_num"
   ]
  },
  {
   "cell_type": "code",
   "execution_count": 23,
   "metadata": {},
   "outputs": [
    {
     "data": {
      "text/html": [
       "<div>\n",
       "<style scoped>\n",
       "    .dataframe tbody tr th:only-of-type {\n",
       "        vertical-align: middle;\n",
       "    }\n",
       "\n",
       "    .dataframe tbody tr th {\n",
       "        vertical-align: top;\n",
       "    }\n",
       "\n",
       "    .dataframe thead th {\n",
       "        text-align: right;\n",
       "    }\n",
       "</style>\n",
       "<table border=\"1\" class=\"dataframe\">\n",
       "  <thead>\n",
       "    <tr style=\"text-align: right;\">\n",
       "      <th></th>\n",
       "      <th>index</th>\n",
       "      <th>product_category_name</th>\n",
       "      <th>Deliverd Days</th>\n",
       "    </tr>\n",
       "  </thead>\n",
       "  <tbody>\n",
       "    <tr>\n",
       "      <th>0</th>\n",
       "      <td>0</td>\n",
       "      <td>55</td>\n",
       "      <td>0</td>\n",
       "    </tr>\n",
       "    <tr>\n",
       "      <th>1</th>\n",
       "      <td>1</td>\n",
       "      <td>55</td>\n",
       "      <td>3</td>\n",
       "    </tr>\n",
       "    <tr>\n",
       "      <th>2</th>\n",
       "      <td>2</td>\n",
       "      <td>55</td>\n",
       "      <td>3</td>\n",
       "    </tr>\n",
       "    <tr>\n",
       "      <th>3</th>\n",
       "      <td>3</td>\n",
       "      <td>55</td>\n",
       "      <td>0</td>\n",
       "    </tr>\n",
       "    <tr>\n",
       "      <th>4</th>\n",
       "      <td>4</td>\n",
       "      <td>55</td>\n",
       "      <td>3</td>\n",
       "    </tr>\n",
       "    <tr>\n",
       "      <th>...</th>\n",
       "      <td>...</td>\n",
       "      <td>...</td>\n",
       "      <td>...</td>\n",
       "    </tr>\n",
       "    <tr>\n",
       "      <th>109297</th>\n",
       "      <td>113315</td>\n",
       "      <td>11</td>\n",
       "      <td>3</td>\n",
       "    </tr>\n",
       "    <tr>\n",
       "      <th>109298</th>\n",
       "      <td>113316</td>\n",
       "      <td>10</td>\n",
       "      <td>0</td>\n",
       "    </tr>\n",
       "    <tr>\n",
       "      <th>109299</th>\n",
       "      <td>113318</td>\n",
       "      <td>63</td>\n",
       "      <td>0</td>\n",
       "    </tr>\n",
       "    <tr>\n",
       "      <th>109300</th>\n",
       "      <td>113320</td>\n",
       "      <td>40</td>\n",
       "      <td>0</td>\n",
       "    </tr>\n",
       "    <tr>\n",
       "      <th>109301</th>\n",
       "      <td>113321</td>\n",
       "      <td>30</td>\n",
       "      <td>1</td>\n",
       "    </tr>\n",
       "  </tbody>\n",
       "</table>\n",
       "<p>109302 rows × 3 columns</p>\n",
       "</div>"
      ],
      "text/plain": [
       "         index  product_category_name  Deliverd Days\n",
       "0            0                     55              0\n",
       "1            1                     55              3\n",
       "2            2                     55              3\n",
       "3            3                     55              0\n",
       "4            4                     55              3\n",
       "...        ...                    ...            ...\n",
       "109297  113315                     11              3\n",
       "109298  113316                     10              0\n",
       "109299  113318                     63              0\n",
       "109300  113320                     40              0\n",
       "109301  113321                     30              1\n",
       "\n",
       "[109302 rows x 3 columns]"
      ]
     },
     "execution_count": 23,
     "metadata": {},
     "output_type": "execute_result"
    }
   ],
   "source": [
    "data_cat.reset_index(inplace=True)\n",
    "data_cat"
   ]
  },
  {
   "cell_type": "code",
   "execution_count": 33,
   "metadata": {},
   "outputs": [],
   "source": [
    "data_final = pd.concat([data_num, data_cat], axis=1, ignore_index=True)"
   ]
  },
  {
   "cell_type": "code",
   "execution_count": 34,
   "metadata": {},
   "outputs": [
    {
     "data": {
      "text/html": [
       "<div>\n",
       "<style scoped>\n",
       "    .dataframe tbody tr th:only-of-type {\n",
       "        vertical-align: middle;\n",
       "    }\n",
       "\n",
       "    .dataframe tbody tr th {\n",
       "        vertical-align: top;\n",
       "    }\n",
       "\n",
       "    .dataframe thead th {\n",
       "        text-align: right;\n",
       "    }\n",
       "</style>\n",
       "<table border=\"1\" class=\"dataframe\">\n",
       "  <thead>\n",
       "    <tr style=\"text-align: right;\">\n",
       "      <th></th>\n",
       "      <th>0</th>\n",
       "      <th>1</th>\n",
       "      <th>2</th>\n",
       "      <th>3</th>\n",
       "      <th>4</th>\n",
       "      <th>5</th>\n",
       "      <th>6</th>\n",
       "    </tr>\n",
       "  </thead>\n",
       "  <tbody>\n",
       "    <tr>\n",
       "      <th>0</th>\n",
       "      <td>0</td>\n",
       "      <td>0.027814</td>\n",
       "      <td>0.121550</td>\n",
       "      <td>-0.050043</td>\n",
       "      <td>0</td>\n",
       "      <td>55</td>\n",
       "      <td>0</td>\n",
       "    </tr>\n",
       "    <tr>\n",
       "      <th>1</th>\n",
       "      <td>1</td>\n",
       "      <td>-0.038204</td>\n",
       "      <td>0.313815</td>\n",
       "      <td>-2.259774</td>\n",
       "      <td>1</td>\n",
       "      <td>55</td>\n",
       "      <td>3</td>\n",
       "    </tr>\n",
       "    <tr>\n",
       "      <th>2</th>\n",
       "      <td>2</td>\n",
       "      <td>-0.038204</td>\n",
       "      <td>0.313815</td>\n",
       "      <td>-2.259774</td>\n",
       "      <td>2</td>\n",
       "      <td>55</td>\n",
       "      <td>3</td>\n",
       "    </tr>\n",
       "    <tr>\n",
       "      <th>3</th>\n",
       "      <td>3</td>\n",
       "      <td>0.027814</td>\n",
       "      <td>-0.276984</td>\n",
       "      <td>-0.786620</td>\n",
       "      <td>3</td>\n",
       "      <td>55</td>\n",
       "      <td>0</td>\n",
       "    </tr>\n",
       "    <tr>\n",
       "      <th>4</th>\n",
       "      <td>4</td>\n",
       "      <td>-0.071214</td>\n",
       "      <td>0.676061</td>\n",
       "      <td>-0.050043</td>\n",
       "      <td>4</td>\n",
       "      <td>55</td>\n",
       "      <td>3</td>\n",
       "    </tr>\n",
       "  </tbody>\n",
       "</table>\n",
       "</div>"
      ],
      "text/plain": [
       "   0         1         2         3  4   5  6\n",
       "0  0  0.027814  0.121550 -0.050043  0  55  0\n",
       "1  1 -0.038204  0.313815 -2.259774  1  55  3\n",
       "2  2 -0.038204  0.313815 -2.259774  2  55  3\n",
       "3  3  0.027814 -0.276984 -0.786620  3  55  0\n",
       "4  4 -0.071214  0.676061 -0.050043  4  55  3"
      ]
     },
     "execution_count": 34,
     "metadata": {},
     "output_type": "execute_result"
    }
   ],
   "source": [
    "data_final.head()"
   ]
  },
  {
   "cell_type": "code",
   "execution_count": 35,
   "metadata": {},
   "outputs": [],
   "source": [
    "data_final = pd.DataFrame(data_final.drop([0,4], axis=1))\n",
    "             "
   ]
  },
  {
   "cell_type": "code",
   "execution_count": 36,
   "metadata": {},
   "outputs": [
    {
     "data": {
      "text/html": [
       "<div>\n",
       "<style scoped>\n",
       "    .dataframe tbody tr th:only-of-type {\n",
       "        vertical-align: middle;\n",
       "    }\n",
       "\n",
       "    .dataframe tbody tr th {\n",
       "        vertical-align: top;\n",
       "    }\n",
       "\n",
       "    .dataframe thead th {\n",
       "        text-align: right;\n",
       "    }\n",
       "</style>\n",
       "<table border=\"1\" class=\"dataframe\">\n",
       "  <thead>\n",
       "    <tr style=\"text-align: right;\">\n",
       "      <th></th>\n",
       "      <th>1</th>\n",
       "      <th>2</th>\n",
       "      <th>3</th>\n",
       "      <th>5</th>\n",
       "      <th>6</th>\n",
       "    </tr>\n",
       "  </thead>\n",
       "  <tbody>\n",
       "    <tr>\n",
       "      <th>0</th>\n",
       "      <td>0.027814</td>\n",
       "      <td>0.121550</td>\n",
       "      <td>-0.050043</td>\n",
       "      <td>55</td>\n",
       "      <td>0</td>\n",
       "    </tr>\n",
       "    <tr>\n",
       "      <th>1</th>\n",
       "      <td>-0.038204</td>\n",
       "      <td>0.313815</td>\n",
       "      <td>-2.259774</td>\n",
       "      <td>55</td>\n",
       "      <td>3</td>\n",
       "    </tr>\n",
       "    <tr>\n",
       "      <th>2</th>\n",
       "      <td>-0.038204</td>\n",
       "      <td>0.313815</td>\n",
       "      <td>-2.259774</td>\n",
       "      <td>55</td>\n",
       "      <td>3</td>\n",
       "    </tr>\n",
       "    <tr>\n",
       "      <th>3</th>\n",
       "      <td>0.027814</td>\n",
       "      <td>-0.276984</td>\n",
       "      <td>-0.786620</td>\n",
       "      <td>55</td>\n",
       "      <td>0</td>\n",
       "    </tr>\n",
       "    <tr>\n",
       "      <th>4</th>\n",
       "      <td>-0.071214</td>\n",
       "      <td>0.676061</td>\n",
       "      <td>-0.050043</td>\n",
       "      <td>55</td>\n",
       "      <td>3</td>\n",
       "    </tr>\n",
       "  </tbody>\n",
       "</table>\n",
       "</div>"
      ],
      "text/plain": [
       "          1         2         3   5  6\n",
       "0  0.027814  0.121550 -0.050043  55  0\n",
       "1 -0.038204  0.313815 -2.259774  55  3\n",
       "2 -0.038204  0.313815 -2.259774  55  3\n",
       "3  0.027814 -0.276984 -0.786620  55  0\n",
       "4 -0.071214  0.676061 -0.050043  55  3"
      ]
     },
     "execution_count": 36,
     "metadata": {},
     "output_type": "execute_result"
    }
   ],
   "source": [
    "data_final.head()"
   ]
  },
  {
   "cell_type": "code",
   "execution_count": 37,
   "metadata": {},
   "outputs": [],
   "source": [
    "X = data_final.drop([6], axis=1)\n",
    "y = data_final[6]"
   ]
  },
  {
   "cell_type": "code",
   "execution_count": 38,
   "metadata": {},
   "outputs": [
    {
     "data": {
      "text/plain": [
       "0         0\n",
       "1         3\n",
       "2         3\n",
       "3         0\n",
       "4         3\n",
       "         ..\n",
       "109297    3\n",
       "109298    0\n",
       "109299    0\n",
       "109300    0\n",
       "109301    1\n",
       "Name: 6, Length: 109302, dtype: int64"
      ]
     },
     "execution_count": 38,
     "metadata": {},
     "output_type": "execute_result"
    }
   ],
   "source": [
    "y"
   ]
  },
  {
   "cell_type": "code",
   "execution_count": 39,
   "metadata": {},
   "outputs": [],
   "source": [
    "from sklearn.model_selection import train_test_split\n",
    "x_train, x_test, y_train, y_test = train_test_split(X.to_numpy(), y.to_numpy(), test_size=0.3, stratify=y)"
   ]
  },
  {
   "cell_type": "code",
   "execution_count": 45,
   "metadata": {},
   "outputs": [],
   "source": [
    "from sklearn.linear_model import LogisticRegression\n",
    "from sklearn.naive_bayes import GaussianNB\n",
    "from sklearn.neighbors import KNeighborsClassifier\n",
    "from sklearn.svm import SVC"
   ]
  },
  {
   "cell_type": "code",
   "execution_count": 41,
   "metadata": {},
   "outputs": [],
   "source": [
    "from sklearn.metrics import precision_score, recall_score, f1_score, accuracy_score, confusion_matrix"
   ]
  },
  {
   "cell_type": "code",
   "execution_count": 56,
   "metadata": {},
   "outputs": [
    {
     "name": "stdout",
     "output_type": "stream",
     "text": [
      "Precision 0.612917840366748 \n",
      " Recall 0.7439541337562136 \n",
      " Accuracy 0.7439541337562136 \n",
      "\n",
      " Confusion Matrix\n",
      "\n"
     ]
    },
    {
     "data": {
      "text/plain": [
       "array([[24336,    68,     0,    53,     0,     0],\n",
       "       [ 1575,    39,     0,     3,     0,     0],\n",
       "       [  699,     3,     0,     7,     0,     0],\n",
       "       [ 5702,    27,     0,    20,     0,     0],\n",
       "       [  237,     8,     0,     0,     0,     0],\n",
       "       [   14,     0,     0,     0,     0,     0]])"
      ]
     },
     "execution_count": 56,
     "metadata": {},
     "output_type": "execute_result"
    }
   ],
   "source": [
    "lr = LogisticRegression()\n",
    "lr.fit(x_train, y_train)\n",
    "pred = lr.predict(x_test)\n",
    "acc = accuracy_score(y_test, pred)\n",
    "ps = precision_score(y_test, pred,average='weighted')\n",
    "rc = recall_score(y_test, pred,average='weighted')\n",
    "print(\"Precision\", ps, \"\\n\", \"Recall\", rc, \"\\n\", \"Accuracy\", acc, \"\\n\\n\", \"Confusion Matrix\\n\")\n",
    "confusion_matrix(y_test, pred)"
   ]
  },
  {
   "cell_type": "code",
   "execution_count": 50,
   "metadata": {},
   "outputs": [
    {
     "ename": "TypeError",
     "evalue": "__init__() got an unexpected keyword argument 'probability'",
     "output_type": "error",
     "traceback": [
      "\u001b[0;31m---------------------------------------------------------------------------\u001b[0m",
      "\u001b[0;31mTypeError\u001b[0m                                 Traceback (most recent call last)",
      "\u001b[0;32m<ipython-input-50-c54f6671f8cd>\u001b[0m in \u001b[0;36m<module>\u001b[0;34m\u001b[0m\n\u001b[0;32m----> 1\u001b[0;31m \u001b[0mgnb\u001b[0m \u001b[0;34m=\u001b[0m \u001b[0mGaussianNB\u001b[0m\u001b[0;34m(\u001b[0m\u001b[0mprobability\u001b[0m\u001b[0;34m=\u001b[0m\u001b[0;32mTrue\u001b[0m\u001b[0;34m)\u001b[0m\u001b[0;34m\u001b[0m\u001b[0;34m\u001b[0m\u001b[0m\n\u001b[0m\u001b[1;32m      2\u001b[0m \u001b[0mgnb\u001b[0m\u001b[0;34m.\u001b[0m\u001b[0mfit\u001b[0m\u001b[0;34m(\u001b[0m\u001b[0mx_train\u001b[0m\u001b[0;34m,\u001b[0m \u001b[0my_train\u001b[0m\u001b[0;34m)\u001b[0m\u001b[0;34m\u001b[0m\u001b[0;34m\u001b[0m\u001b[0m\n\u001b[1;32m      3\u001b[0m \u001b[0mpred\u001b[0m \u001b[0;34m=\u001b[0m \u001b[0mgnb\u001b[0m\u001b[0;34m.\u001b[0m\u001b[0mpredict\u001b[0m\u001b[0;34m(\u001b[0m\u001b[0mx_test\u001b[0m\u001b[0;34m)\u001b[0m\u001b[0;34m\u001b[0m\u001b[0;34m\u001b[0m\u001b[0m\n\u001b[1;32m      4\u001b[0m \u001b[0macc\u001b[0m \u001b[0;34m=\u001b[0m \u001b[0maccuracy_score\u001b[0m\u001b[0;34m(\u001b[0m\u001b[0my_test\u001b[0m\u001b[0;34m,\u001b[0m \u001b[0mpred\u001b[0m\u001b[0;34m)\u001b[0m\u001b[0;34m\u001b[0m\u001b[0;34m\u001b[0m\u001b[0m\n\u001b[1;32m      5\u001b[0m \u001b[0mps\u001b[0m \u001b[0;34m=\u001b[0m \u001b[0mprecision_score\u001b[0m\u001b[0;34m(\u001b[0m\u001b[0my_test\u001b[0m\u001b[0;34m,\u001b[0m \u001b[0mpred\u001b[0m\u001b[0;34m,\u001b[0m\u001b[0maverage\u001b[0m\u001b[0;34m=\u001b[0m\u001b[0;34m'weighted'\u001b[0m\u001b[0;34m)\u001b[0m\u001b[0;34m\u001b[0m\u001b[0;34m\u001b[0m\u001b[0m\n",
      "\u001b[0;32m~/opt/anaconda3/envs/AI_for_Healthcare/lib/python3.7/site-packages/sklearn/utils/validation.py\u001b[0m in \u001b[0;36minner_f\u001b[0;34m(*args, **kwargs)\u001b[0m\n\u001b[1;32m     61\u001b[0m             \u001b[0mextra_args\u001b[0m \u001b[0;34m=\u001b[0m \u001b[0mlen\u001b[0m\u001b[0;34m(\u001b[0m\u001b[0margs\u001b[0m\u001b[0;34m)\u001b[0m \u001b[0;34m-\u001b[0m \u001b[0mlen\u001b[0m\u001b[0;34m(\u001b[0m\u001b[0mall_args\u001b[0m\u001b[0;34m)\u001b[0m\u001b[0;34m\u001b[0m\u001b[0;34m\u001b[0m\u001b[0m\n\u001b[1;32m     62\u001b[0m             \u001b[0;32mif\u001b[0m \u001b[0mextra_args\u001b[0m \u001b[0;34m<=\u001b[0m \u001b[0;36m0\u001b[0m\u001b[0;34m:\u001b[0m\u001b[0;34m\u001b[0m\u001b[0;34m\u001b[0m\u001b[0m\n\u001b[0;32m---> 63\u001b[0;31m                 \u001b[0;32mreturn\u001b[0m \u001b[0mf\u001b[0m\u001b[0;34m(\u001b[0m\u001b[0;34m*\u001b[0m\u001b[0margs\u001b[0m\u001b[0;34m,\u001b[0m \u001b[0;34m**\u001b[0m\u001b[0mkwargs\u001b[0m\u001b[0;34m)\u001b[0m\u001b[0;34m\u001b[0m\u001b[0;34m\u001b[0m\u001b[0m\n\u001b[0m\u001b[1;32m     64\u001b[0m \u001b[0;34m\u001b[0m\u001b[0m\n\u001b[1;32m     65\u001b[0m             \u001b[0;31m# extra_args > 0\u001b[0m\u001b[0;34m\u001b[0m\u001b[0;34m\u001b[0m\u001b[0;34m\u001b[0m\u001b[0m\n",
      "\u001b[0;31mTypeError\u001b[0m: __init__() got an unexpected keyword argument 'probability'"
     ]
    }
   ],
   "source": [
    "gnb = GaussianNB()\n",
    "gnb.fit(x_train, y_train)\n",
    "pred = gnb.predict(x_test)\n",
    "acc = accuracy_score(y_test, pred)\n",
    "ps = precision_score(y_test, pred,average='weighted')\n",
    "rc = recall_score(y_test, pred,average='weighted')\n",
    "print(\"Precision\", ps, \"\\n\", \"Recall\", rc, \"\\n\", \"Accuracy\", acc, \"\\n\\n\", \"Confusion Matrix\\n\")\n",
    "confusion_matrix(y_test, pred)"
   ]
  },
  {
   "cell_type": "code",
   "execution_count": 44,
   "metadata": {},
   "outputs": [
    {
     "name": "stdout",
     "output_type": "stream",
     "text": [
      "Precision 0.667451269114504 \n",
      " Recall 0.7280351315909853 \n",
      " Accuracy 0.7280351315909853 \n",
      "\n",
      " Confusion Matrix\n",
      "\n"
     ]
    },
    {
     "data": {
      "text/plain": [
       "array([[22503,   359,    60,  1515,    20,     0],\n",
       "       [ 1172,   330,     7,    98,    10,     0],\n",
       "       [  613,    19,    25,    52,     0,     0],\n",
       "       [ 4600,   120,    13,  1011,     5,     0],\n",
       "       [  188,    36,     3,    14,     4,     0],\n",
       "       [   12,     1,     0,     1,     0,     0]])"
      ]
     },
     "execution_count": 44,
     "metadata": {},
     "output_type": "execute_result"
    }
   ],
   "source": [
    "knn = KNeighborsClassifier()\n",
    "knn.fit(x_train, y_train)\n",
    "pred = knn.predict(x_test)\n",
    "acc = accuracy_score(y_test, pred)\n",
    "ps = precision_score(y_test, pred,average='weighted')\n",
    "rc = recall_score(y_test, pred,average='weighted')\n",
    "print(\"Precision\", ps, \"\\n\", \"Recall\", rc, \"\\n\", \"Accuracy\", acc, \"\\n\\n\", \"Confusion Matrix\\n\")\n",
    "confusion_matrix(y_test, pred)"
   ]
  },
  {
   "cell_type": "code",
   "execution_count": 54,
   "metadata": {},
   "outputs": [
    {
     "name": "stdout",
     "output_type": "stream",
     "text": [
      "Precision 0.5770489400628833 \n",
      " Recall 0.05275837882345766 \n",
      " Accuracy 0.05275837882345766 \n",
      "\n",
      " Confusion Matrix\n",
      "\n"
     ]
    },
    {
     "data": {
      "text/plain": [
       "array([[    8,  1259,  6067,  5589, 11534,     0],\n",
       "       [    1,   144,   417,   326,   729,     0],\n",
       "       [    0,    36,   202,   150,   321,     0],\n",
       "       [    1,   325,  1549,  1266,  2608,     0],\n",
       "       [    1,    25,    61,    48,   110,     0],\n",
       "       [    0,     2,     4,     2,     6,     0]])"
      ]
     },
     "execution_count": 54,
     "metadata": {},
     "output_type": "execute_result"
    }
   ],
   "source": [
    "svc = SVC(max_iter=50, probability=True)\n",
    "svc.fit(x_train, y_train)\n",
    "pred = svc.predict(x_test)\n",
    "acc = accuracy_score(y_test, pred)\n",
    "ps = precision_score(y_test, pred,average='weighted')\n",
    "rc = recall_score(y_test, pred,average='weighted')\n",
    "print(\"Precision\", ps, \"\\n\", \"Recall\", rc, \"\\n\", \"Accuracy\", acc, \"\\n\\n\", \"Confusion Matrix\\n\")\n",
    "confusion_matrix(y_test, pred)"
   ]
  },
  {
   "cell_type": "code",
   "execution_count": 55,
   "metadata": {},
   "outputs": [
    {
     "name": "stdout",
     "output_type": "stream",
     "text": [
      "Precision 0.6208233134668276 \n",
      " Recall 0.7436491720289103 \n",
      " Accuracy 0.7436491720289103 \n",
      "\n",
      " Confusion Matrix\n",
      "\n"
     ]
    },
    {
     "data": {
      "text/plain": [
       "array([[24316,    51,     0,    82,     8,     0],\n",
       "       [ 1577,    34,     0,     4,     2,     0],\n",
       "       [  702,     4,     0,     3,     0,     0],\n",
       "       [ 5687,    23,     0,    35,     4,     0],\n",
       "       [  236,     9,     0,     0,     0,     0],\n",
       "       [   14,     0,     0,     0,     0,     0]])"
      ]
     },
     "execution_count": 55,
     "metadata": {},
     "output_type": "execute_result"
    }
   ],
   "source": [
    "from sklearn.ensemble import VotingClassifier\n",
    "\n",
    "vt = VotingClassifier([(\"Logistic Regression\", lr),\n",
    "                      (\"Naive Bayes\", gnb), (\"SVC\", svc)], voting=\"soft\", n_jobs=-1)\n",
    "\n",
    "vt.fit(x_train, y_train)\n",
    "pred = vt.predict(x_test)\n",
    "acc = accuracy_score(y_test, pred)\n",
    "ps = precision_score(y_test, pred,average='weighted')\n",
    "rc = recall_score(y_test, pred,average='weighted')\n",
    "print(\"Precision\", ps, \"\\n\", \"Recall\", rc, \"\\n\", \"Accuracy\", acc, \"\\n\\n\", \"Confusion Matrix\\n\")\n",
    "confusion_matrix(y_test, pred)"
   ]
  },
  {
   "cell_type": "code",
   "execution_count": null,
   "metadata": {},
   "outputs": [],
   "source": [
    "from sklearn.model_selection import KFold, StratifiedKFold\n",
    "\n",
    "kf = StratifiedKFold(n_splits=5, shuffle=True, random_state=42)\n",
    "#X = X.to_numpy()\n",
    "#y = y.to_numpy()\n",
    "precision_scores = []\n",
    "recall_scores = []\n",
    "accuracy_scores = []\n",
    "predictions = []\n",
    "data_y = []\n",
    "for train_index, test_index in kf.split(X, y):\n",
    "    X_train, X_test = X[train_index], X[test_index]\n",
    "    y_train, y_test = y[train_index], y[test_index]\n",
    "    \n",
    "    precision_scores.append(\n",
    "        precision_score(vt.fit(X_train, y_train).predict(X_test), y_test, average='weighted')\n",
    "    )\n",
    "    recall_scores.append(\n",
    "        recall_score(vt.fit(X_train, y_train).predict(X_test), y_test, average='weighted')\n",
    "    )\n",
    "    accuracy_scores.append(\n",
    "        accuracy_score(vt.fit(X_train, y_train).predict(X_test), y_test)\n",
    "    )\n",
    "\n",
    "    \n",
    "acc = np.mean(accuracy_scores)\n",
    "ps = np.mean(precision_scores)\n",
    "rc = np.mean(recall_scores)\n",
    "print(\"Precision\", ps, \"\\n\", \"Recall\", rc, \"\\n\", \"Accuracy\", acc, \"\\n\\n\", \"Confusion Matrix\\n\")\n",
    "confusion_matrix(y_test, pred)"
   ]
  },
  {
   "cell_type": "code",
   "execution_count": null,
   "metadata": {},
   "outputs": [],
   "source": []
  }
 ],
 "metadata": {
  "kernelspec": {
   "display_name": "AI_for_Healthcare",
   "language": "python",
   "name": "ai_for_healthcare"
  },
  "language_info": {
   "codemirror_mode": {
    "name": "ipython",
    "version": 3
   },
   "file_extension": ".py",
   "mimetype": "text/x-python",
   "name": "python",
   "nbconvert_exporter": "python",
   "pygments_lexer": "ipython3",
   "version": "3.7.10"
  }
 },
 "nbformat": 4,
 "nbformat_minor": 5
}
